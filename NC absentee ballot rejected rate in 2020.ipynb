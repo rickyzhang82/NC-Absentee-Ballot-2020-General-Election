{
 "cells": [
  {
   "cell_type": "code",
   "execution_count": 1,
   "metadata": {},
   "outputs": [],
   "source": [
    "import numpy as np\n",
    "import pandas as pd\n",
    "import math\n",
    "import os.path\n",
    "import json\n",
    "import time"
   ]
  },
  {
   "cell_type": "code",
   "execution_count": 11,
   "metadata": {},
   "outputs": [],
   "source": [
    "# Download data source on NOV/19/2020\n",
    "# wget https://s3.amazonaws.com/dl.ncsbe.gov/ENRS/2020_11_03/absentee_20201103.zip\n",
    "\n",
    "DATA_ROOT_PATH = '/src/data/nc-voting/absentee'\n",
    "#FILENAME = 'absentee_20201103.csv.sample'\n",
    "FILENAME = 'absentee_20201103.csv'"
   ]
  },
  {
   "cell_type": "code",
   "execution_count": 12,
   "metadata": {},
   "outputs": [
    {
     "name": "stderr",
     "output_type": "stream",
     "text": [
      "/usr/local/lib/python3.6/dist-packages/IPython/core/interactiveshell.py:3051: DtypeWarning: Columns (28) have mixed types. Specify dtype option on import or set low_memory=False.\n",
      "  interactivity=interactivity, compiler=compiler, result=result)\n"
     ]
    }
   ],
   "source": [
    "df = pd.read_csv(os.path.join(DATA_ROOT_PATH, FILENAME), encoding = \"ISO-8859-1\")"
   ]
  },
  {
   "cell_type": "markdown",
   "metadata": {},
   "source": [
    "# Data Exploration"
   ]
  },
  {
   "cell_type": "code",
   "execution_count": 13,
   "metadata": {},
   "outputs": [
    {
     "data": {
      "text/plain": [
       "county_desc                    object\n",
       "voter_reg_num                   int64\n",
       "ncid                           object\n",
       "voter_last_name                object\n",
       "voter_first_name               object\n",
       "voter_middle_name              object\n",
       "race                           object\n",
       "ethnicity                      object\n",
       "gender                         object\n",
       "age                             int64\n",
       "voter_street_address           object\n",
       "voter_city                     object\n",
       "voter_state                    object\n",
       "voter_zip                     float64\n",
       "ballot_mail_street_address     object\n",
       "ballot_mail_city               object\n",
       "ballot_mail_state              object\n",
       "ballot_mail_zip                object\n",
       "other_mail_addr1               object\n",
       "other_mail_addr2               object\n",
       "other_city_state_zip           object\n",
       "relative_request_name          object\n",
       "relative_request_address       object\n",
       "relative_request_city          object\n",
       "relative_request_state         object\n",
       "relative_request_zip           object\n",
       "election_dt                    object\n",
       "voter_party_code               object\n",
       "precinct_desc                  object\n",
       "cong_dist_desc                 object\n",
       "nc_house_desc                  object\n",
       "nc_senate_desc                 object\n",
       "ballot_req_delivery_type       object\n",
       "ballot_req_type                object\n",
       "ballot_request_party           object\n",
       "ballot_req_dt                  object\n",
       "ballot_send_dt                 object\n",
       "ballot_rtn_dt                  object\n",
       "ballot_rtn_status              object\n",
       "site_name                      object\n",
       "sdr                            object\n",
       "mail_veri_status               object\n",
       "dtype: object"
      ]
     },
     "execution_count": 13,
     "metadata": {},
     "output_type": "execute_result"
    }
   ],
   "source": [
    "df.dtypes"
   ]
  },
  {
   "cell_type": "code",
   "execution_count": 14,
   "metadata": {},
   "outputs": [
    {
     "data": {
      "text/html": [
       "<div>\n",
       "<style scoped>\n",
       "    .dataframe tbody tr th:only-of-type {\n",
       "        vertical-align: middle;\n",
       "    }\n",
       "\n",
       "    .dataframe tbody tr th {\n",
       "        vertical-align: top;\n",
       "    }\n",
       "\n",
       "    .dataframe thead th {\n",
       "        text-align: right;\n",
       "    }\n",
       "</style>\n",
       "<table border=\"1\" class=\"dataframe\">\n",
       "  <thead>\n",
       "    <tr style=\"text-align: right;\">\n",
       "      <th></th>\n",
       "      <th>county_desc</th>\n",
       "      <th>voter_reg_num</th>\n",
       "      <th>ncid</th>\n",
       "      <th>voter_last_name</th>\n",
       "      <th>voter_first_name</th>\n",
       "      <th>voter_middle_name</th>\n",
       "      <th>race</th>\n",
       "      <th>ethnicity</th>\n",
       "      <th>gender</th>\n",
       "      <th>age</th>\n",
       "      <th>...</th>\n",
       "      <th>ballot_req_delivery_type</th>\n",
       "      <th>ballot_req_type</th>\n",
       "      <th>ballot_request_party</th>\n",
       "      <th>ballot_req_dt</th>\n",
       "      <th>ballot_send_dt</th>\n",
       "      <th>ballot_rtn_dt</th>\n",
       "      <th>ballot_rtn_status</th>\n",
       "      <th>site_name</th>\n",
       "      <th>sdr</th>\n",
       "      <th>mail_veri_status</th>\n",
       "    </tr>\n",
       "  </thead>\n",
       "  <tbody>\n",
       "    <tr>\n",
       "      <th>0</th>\n",
       "      <td>ALAMANCE</td>\n",
       "      <td>9005990</td>\n",
       "      <td>AA56273</td>\n",
       "      <td>AABEL</td>\n",
       "      <td>RUTH</td>\n",
       "      <td>EVELYN</td>\n",
       "      <td>WHITE</td>\n",
       "      <td>NOT HISPANIC or NOT LATINO</td>\n",
       "      <td>F</td>\n",
       "      <td>85</td>\n",
       "      <td>...</td>\n",
       "      <td>MAIL</td>\n",
       "      <td>MAIL</td>\n",
       "      <td>UNA</td>\n",
       "      <td>09/07/2020</td>\n",
       "      <td>09/09/2020</td>\n",
       "      <td>10/02/2020</td>\n",
       "      <td>ACCEPTED</td>\n",
       "      <td></td>\n",
       "      <td></td>\n",
       "      <td></td>\n",
       "    </tr>\n",
       "    <tr>\n",
       "      <th>1</th>\n",
       "      <td>ALAMANCE</td>\n",
       "      <td>9178574</td>\n",
       "      <td>AA201627</td>\n",
       "      <td>AARDEN</td>\n",
       "      <td>JONI</td>\n",
       "      <td>AUTUMN</td>\n",
       "      <td>WHITE</td>\n",
       "      <td>UNDESIGNATED</td>\n",
       "      <td>F</td>\n",
       "      <td>42</td>\n",
       "      <td>...</td>\n",
       "      <td>IN PERSON</td>\n",
       "      <td>ONE-STOP</td>\n",
       "      <td>UNA</td>\n",
       "      <td>10/29/2020</td>\n",
       "      <td>10/29/2020</td>\n",
       "      <td>10/29/2020</td>\n",
       "      <td>ACCEPTED</td>\n",
       "      <td>MEBANE ARTS AND COMMUN ITY CENTER</td>\n",
       "      <td></td>\n",
       "      <td></td>\n",
       "    </tr>\n",
       "    <tr>\n",
       "      <th>2</th>\n",
       "      <td>ALAMANCE</td>\n",
       "      <td>9205561</td>\n",
       "      <td>AA216996</td>\n",
       "      <td>AARMSTRONG</td>\n",
       "      <td>TIMOTHY</td>\n",
       "      <td>DUANE</td>\n",
       "      <td>WHITE</td>\n",
       "      <td>UNDESIGNATED</td>\n",
       "      <td>M</td>\n",
       "      <td>54</td>\n",
       "      <td>...</td>\n",
       "      <td>IN PERSON</td>\n",
       "      <td>ONE-STOP</td>\n",
       "      <td>REP</td>\n",
       "      <td>10/31/2020</td>\n",
       "      <td>10/31/2020</td>\n",
       "      <td>10/31/2020</td>\n",
       "      <td>ACCEPTED</td>\n",
       "      <td>MEBANE ARTS AND COMMUN ITY CENTER</td>\n",
       "      <td>Y</td>\n",
       "      <td>1ST VFY</td>\n",
       "    </tr>\n",
       "  </tbody>\n",
       "</table>\n",
       "<p>3 rows × 42 columns</p>\n",
       "</div>"
      ],
      "text/plain": [
       "  county_desc  voter_reg_num      ncid voter_last_name voter_first_name  \\\n",
       "0    ALAMANCE        9005990   AA56273           AABEL             RUTH   \n",
       "1    ALAMANCE        9178574  AA201627          AARDEN             JONI   \n",
       "2    ALAMANCE        9205561  AA216996      AARMSTRONG          TIMOTHY   \n",
       "\n",
       "  voter_middle_name   race                   ethnicity gender  age  ...  \\\n",
       "0            EVELYN  WHITE  NOT HISPANIC or NOT LATINO      F   85  ...   \n",
       "1            AUTUMN  WHITE                UNDESIGNATED      F   42  ...   \n",
       "2             DUANE  WHITE                UNDESIGNATED      M   54  ...   \n",
       "\n",
       "  ballot_req_delivery_type ballot_req_type ballot_request_party  \\\n",
       "0                     MAIL            MAIL                  UNA   \n",
       "1                IN PERSON        ONE-STOP                  UNA   \n",
       "2                IN PERSON        ONE-STOP                  REP   \n",
       "\n",
       "   ballot_req_dt ballot_send_dt ballot_rtn_dt ballot_rtn_status  \\\n",
       "0     09/07/2020     09/09/2020    10/02/2020          ACCEPTED   \n",
       "1     10/29/2020     10/29/2020    10/29/2020          ACCEPTED   \n",
       "2     10/31/2020     10/31/2020    10/31/2020          ACCEPTED   \n",
       "\n",
       "                           site_name sdr mail_veri_status  \n",
       "0                                                          \n",
       "1  MEBANE ARTS AND COMMUN ITY CENTER                       \n",
       "2  MEBANE ARTS AND COMMUN ITY CENTER   Y          1ST VFY  \n",
       "\n",
       "[3 rows x 42 columns]"
      ]
     },
     "execution_count": 14,
     "metadata": {},
     "output_type": "execute_result"
    }
   ],
   "source": [
    "df.head(3)"
   ]
  },
  {
   "cell_type": "code",
   "execution_count": 15,
   "metadata": {},
   "outputs": [],
   "source": [
    "df['ballot_rtn_status_cat'] = df['ballot_rtn_status'].astype('category')"
   ]
  },
  {
   "cell_type": "code",
   "execution_count": 16,
   "metadata": {},
   "outputs": [
    {
     "data": {
      "text/plain": [
       "ACCEPTED                        4621254\n",
       "SPOILED                          276804\n",
       "                                 165591\n",
       "ACCEPTED - CURED                   7946\n",
       "WITNESS INFO INCOMPLETE            5891\n",
       "PENDING CURE                       5184\n",
       "CANCELLED                          4212\n",
       "RETURNED UNDELIVERABLE             2580\n",
       "WRONG VOTER                         845\n",
       "RETURNED AFTER DEADLINE             813\n",
       "NOT VOTED                           703\n",
       "DUPLICATE                           612\n",
       "CONFLICT                            517\n",
       "PENDING                              66\n",
       "NO TIME FOR CURE - CONTACTED         59\n",
       "SIGNATURE DIFFERENT                  28\n",
       "ASSISTANT INFO INCOMPLETE             8\n",
       "E-TRANSMISSION FAILURE                4\n",
       "NOT PROPERLY NOTARIZED                1\n",
       "Name: ballot_rtn_status_cat, dtype: int64"
      ]
     },
     "execution_count": 16,
     "metadata": {},
     "output_type": "execute_result"
    }
   ],
   "source": [
    "df['ballot_rtn_status_cat'].value_counts()"
   ]
  },
  {
   "cell_type": "code",
   "execution_count": 17,
   "metadata": {},
   "outputs": [
    {
     "data": {
      "text/plain": [
       "IN PERSON    3634355\n",
       "MAIL         1431188\n",
       "E-MAIL         27567\n",
       "FAX                8\n",
       "Name: ballot_req_delivery_type_cat, dtype: int64"
      ]
     },
     "execution_count": 17,
     "metadata": {},
     "output_type": "execute_result"
    }
   ],
   "source": [
    "df['ballot_req_delivery_type_cat'] = df['ballot_req_delivery_type'].astype('category')\n",
    "df['ballot_req_delivery_type_cat'].value_counts()"
   ]
  },
  {
   "cell_type": "code",
   "execution_count": 18,
   "metadata": {},
   "outputs": [
    {
     "data": {
      "text/plain": [
       "ONE-STOP    3634108\n",
       "MAIL        1459010\n",
       "Name: ballot_req_type_cat, dtype: int64"
      ]
     },
     "execution_count": 18,
     "metadata": {},
     "output_type": "execute_result"
    }
   ],
   "source": [
    "df['ballot_req_type_cat'] = df['ballot_req_type'].astype('category')\n",
    "df['ballot_req_type_cat'].value_counts()"
   ]
  },
  {
   "cell_type": "code",
   "execution_count": 19,
   "metadata": {},
   "outputs": [
    {
     "data": {
      "text/plain": [
       "11/03/2020    5093118\n",
       "Name: election_dt, dtype: int64"
      ]
     },
     "execution_count": 19,
     "metadata": {},
     "output_type": "execute_result"
    }
   ],
   "source": [
    "df[\"election_dt\"].astype('category').value_counts()"
   ]
  },
  {
   "cell_type": "markdown",
   "metadata": {},
   "source": [
    "# Rejected Rate in Absentee Ballot by Mail"
   ]
  },
  {
   "cell_type": "code",
   "execution_count": 20,
   "metadata": {},
   "outputs": [],
   "source": [
    "vote_by_mail_df = df[df['ballot_req_type_cat']=='MAIL']"
   ]
  },
  {
   "cell_type": "code",
   "execution_count": 21,
   "metadata": {},
   "outputs": [
    {
     "data": {
      "text/plain": [
       "ACCEPTED                        993455\n",
       "SPOILED                         276804\n",
       "                                165591\n",
       "ACCEPTED - CURED                  7946\n",
       "WITNESS INFO INCOMPLETE           5891\n",
       "PENDING CURE                      5184\n",
       "RETURNED UNDELIVERABLE            2580\n",
       "RETURNED AFTER DEADLINE            813\n",
       "DUPLICATE                          558\n",
       "PENDING                             66\n",
       "NO TIME FOR CURE - CONTACTED        59\n",
       "SIGNATURE DIFFERENT                 28\n",
       "CONFLICT                            22\n",
       "ASSISTANT INFO INCOMPLETE            8\n",
       "E-TRANSMISSION FAILURE               4\n",
       "NOT PROPERLY NOTARIZED               1\n",
       "CANCELLED                            0\n",
       "NOT VOTED                            0\n",
       "WRONG VOTER                          0\n",
       "Name: ballot_rtn_status_cat, dtype: int64"
      ]
     },
     "execution_count": 21,
     "metadata": {},
     "output_type": "execute_result"
    }
   ],
   "source": [
    "vote_by_mail_df['ballot_rtn_status_cat'].value_counts(dropna=False)"
   ]
  },
  {
   "cell_type": "code",
   "execution_count": 22,
   "metadata": {},
   "outputs": [
    {
     "data": {
      "text/plain": [
       "1459010"
      ]
     },
     "execution_count": 22,
     "metadata": {},
     "output_type": "execute_result"
    }
   ],
   "source": [
    "len(vote_by_mail_df)"
   ]
  },
  {
   "cell_type": "code",
   "execution_count": 24,
   "metadata": {},
   "outputs": [
    {
     "name": "stdout",
     "output_type": "stream",
     "text": [
      "Rejected Rate of absentee ballot in mail : 1.04%\n"
     ]
    }
   ],
   "source": [
    "rejected_rate_in_mail=1-((993455 + 276804 + 165591 + 7946)/1459010)\n",
    "print(\"Rejected Rate of absentee ballot in mail : {:.2%}\".format(rejected_rate_in_mail))"
   ]
  },
  {
   "cell_type": "markdown",
   "metadata": {},
   "source": [
    "# Rejected Rate in Absentee Ballot in Person"
   ]
  },
  {
   "cell_type": "code",
   "execution_count": 32,
   "metadata": {},
   "outputs": [],
   "source": [
    "one_stop_vote_in_person = df[df['ballot_req_type_cat']=='ONE-STOP']"
   ]
  },
  {
   "cell_type": "code",
   "execution_count": 33,
   "metadata": {},
   "outputs": [
    {
     "data": {
      "text/plain": [
       "ACCEPTED                        3627799\n",
       "CANCELLED                          4212\n",
       "WRONG VOTER                         845\n",
       "NOT VOTED                           703\n",
       "CONFLICT                            495\n",
       "DUPLICATE                            54\n",
       "NO TIME FOR CURE - CONTACTED          0\n",
       "ACCEPTED - CURED                      0\n",
       "ASSISTANT INFO INCOMPLETE             0\n",
       "E-TRANSMISSION FAILURE                0\n",
       "NOT PROPERLY NOTARIZED                0\n",
       "WITNESS INFO INCOMPLETE               0\n",
       "PENDING                               0\n",
       "PENDING CURE                          0\n",
       "RETURNED AFTER DEADLINE               0\n",
       "RETURNED UNDELIVERABLE                0\n",
       "SIGNATURE DIFFERENT                   0\n",
       "SPOILED                               0\n",
       "                                      0\n",
       "Name: ballot_rtn_status_cat, dtype: int64"
      ]
     },
     "execution_count": 33,
     "metadata": {},
     "output_type": "execute_result"
    }
   ],
   "source": [
    "one_stop_vote_in_person['ballot_rtn_status_cat'].value_counts(dropna=False)"
   ]
  },
  {
   "cell_type": "code",
   "execution_count": 34,
   "metadata": {},
   "outputs": [
    {
     "data": {
      "text/plain": [
       "3634108"
      ]
     },
     "execution_count": 34,
     "metadata": {},
     "output_type": "execute_result"
    }
   ],
   "source": [
    "len(one_stop_vote_in_person)"
   ]
  },
  {
   "cell_type": "code",
   "execution_count": 36,
   "metadata": {},
   "outputs": [
    {
     "name": "stdout",
     "output_type": "stream",
     "text": [
      "Rejected Rate of Early Voting in Person: 0.06%\n"
     ]
    }
   ],
   "source": [
    "rejected_rate_in_person=1-((3627799+4212)/3634108)\n",
    "print(\"Rejected Rate of Early Voting in Person: {:.2%}\".format(rejected_rate_in_person))"
   ]
  },
  {
   "cell_type": "markdown",
   "metadata": {},
   "source": [
    "# Conclusion\n",
    "\n",
    "- The rejected rate in person is far lower than the rejected rate by mail. Go vote in person"
   ]
  }
 ],
 "metadata": {
  "kernelspec": {
   "display_name": "Python 3",
   "language": "python",
   "name": "python3"
  },
  "language_info": {
   "codemirror_mode": {
    "name": "ipython",
    "version": 3
   },
   "file_extension": ".py",
   "mimetype": "text/x-python",
   "name": "python",
   "nbconvert_exporter": "python",
   "pygments_lexer": "ipython3",
   "version": "3.6.9"
  }
 },
 "nbformat": 4,
 "nbformat_minor": 2
}
